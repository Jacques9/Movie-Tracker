{
 "cells": [
  {
   "cell_type": "code",
   "execution_count": 23,
   "metadata": {},
   "outputs": [
    {
     "name": "stdout",
     "output_type": "stream",
     "text": [
      "Feature Importance:\n",
      "                               Feature  Importance\n",
      "0  Productivity and Business Processes    0.499098\n",
      "1                    Intelligent Cloud    0.428116\n",
      "2              More Personal Computing    0.072786\n",
      "Best Segment: Productivity and Business Processes\n"
     ]
    }
   ],
   "source": [
    "import pandas as pd\n",
    "from sklearn.ensemble import RandomForestRegressor\n",
    "import re\n",
    "\n",
    "# Load the dataset\n",
    "data = pd.read_csv('random_forest_data.csv')\n",
    "\n",
    "# Convert currency values to numerical values\n",
    "def convert_currency(value):\n",
    "    value = re.sub(r'[^\\d.]', '', value)  # Remove non-numeric characters\n",
    "    return float(value)\n",
    "\n",
    "data['Productivity and Business Processes'] = data['Productivity and Business Processes'].apply(convert_currency)\n",
    "data['Intelligent Cloud'] = data['Intelligent Cloud'].apply(convert_currency)\n",
    "data['More Personal Computing'] = data['More Personal Computing'].apply(convert_currency)\n",
    "data['Revenue'] = data['Revenue'].apply(convert_currency)\n",
    "\n",
    "# Prepare the data\n",
    "features = data[['Productivity and Business Processes', 'Intelligent Cloud', 'More Personal Computing']]\n",
    "target = data['Revenue']\n",
    "\n",
    "# Split the data into training and testing sets\n",
    "train_size = int(0.8 * len(data))\n",
    "train_features = features[:train_size]\n",
    "train_target = target[:train_size]\n",
    "test_features = features[train_size:]\n",
    "test_target = target[train_size:]\n",
    "\n",
    "# Train the random forest model\n",
    "model = RandomForestRegressor(n_estimators=100, random_state=42)\n",
    "model.fit(train_features, train_target)\n",
    "\n",
    "# Predict revenue for the testing set\n",
    "predictions = model.predict(test_features)\n",
    "\n",
    "\n",
    "# Feature importance\n",
    "feature_importance = model.feature_importances_\n",
    "feature_importance_df = pd.DataFrame({'Feature': features.columns, 'Importance': feature_importance})\n",
    "feature_importance_df = feature_importance_df.sort_values(by='Importance', ascending=False)\n",
    "print(\"Feature Importance:\")\n",
    "print(feature_importance_df)\n",
    "\n",
    "# Determine the best segment\n",
    "best_segment = feature_importance_df.iloc[0]['Feature']\n",
    "print(\"Best Segment:\", best_segment)"
   ]
  }
 ],
 "metadata": {
  "kernelspec": {
   "display_name": "Python 3",
   "language": "python",
   "name": "python3"
  },
  "language_info": {
   "codemirror_mode": {
    "name": "ipython",
    "version": 3
   },
   "file_extension": ".py",
   "mimetype": "text/x-python",
   "name": "python",
   "nbconvert_exporter": "python",
   "pygments_lexer": "ipython3",
   "version": "3.11.3"
  },
  "orig_nbformat": 4
 },
 "nbformat": 4,
 "nbformat_minor": 2
}
